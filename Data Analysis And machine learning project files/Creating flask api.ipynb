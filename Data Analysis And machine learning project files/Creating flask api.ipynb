{
 "cells": [
  {
   "cell_type": "code",
   "execution_count": 14,
   "id": "c02c0599",
   "metadata": {},
   "outputs": [
    {
     "name": "stdout",
     "output_type": "stream",
     "text": [
      "Overwriting app.py\n"
     ]
    }
   ],
   "source": [
    "%%writefile app.py\n",
    "import joblib as jb\n",
    "import pandas as pd\n",
    "from flask import Flask,request\n",
    "from flask_cors import CORS\n",
    "import sklearn\n",
    "def get(is_tv_subscriber, subscription_age, remaining_contract, service_failure_count, download_avg):\n",
    "    model = jb.load('BernoulliNBmodel.h5')\n",
    "    df = pd.DataFrame(columns=jb.load('featuresnames.h5'))\n",
    "    df.loc[0,'is_tv_subscriber'] = is_tv_subscriber\n",
    "    df.loc[0, 'subscription_age'] = subscription_age\n",
    "    df.loc[0, 'remaining_contract'] = remaining_contract\n",
    "    df.loc[0, 'service_failure_count'] = service_failure_count\n",
    "    df.loc[0, 'download_avg'] = download_avg\n",
    "    prediction = str(model.predict(df)[0])\n",
    "    return prediction\n",
    "\n",
    "app = Flask(__name__)\n",
    "CORS(app)\n",
    "@app.route('/predict')\n",
    "def index():\n",
    "    args = request.args\n",
    "    predicted = get(args.get('is_tv_subscriber'), args.get('subscription_age'), args.get('remaining_contract'), args.get('service_failure_count'), args.get('download_avg'))\n",
    "    return predicted\n",
    "\n",
    "@app.route('/')\n",
    "def ind():\n",
    "    return 'Add Queries to get a prediction response'\n",
    "    \n",
    "if __name__ == '__main__':\n",
    "    app.run(debug=True)"
   ]
  }
 ],
 "metadata": {
  "kernelspec": {
   "display_name": "Python 3 (ipykernel)",
   "language": "python",
   "name": "python3"
  },
  "language_info": {
   "codemirror_mode": {
    "name": "ipython",
    "version": 3
   },
   "file_extension": ".py",
   "mimetype": "text/x-python",
   "name": "python",
   "nbconvert_exporter": "python",
   "pygments_lexer": "ipython3",
   "version": "3.9.12"
  }
 },
 "nbformat": 4,
 "nbformat_minor": 5
}
